{
 "cells": [
  {
   "cell_type": "code",
   "execution_count": 1,
   "metadata": {},
   "outputs": [],
   "source": [
    "import numpy as np\n",
    "import pandas as pd\n",
    "from tqdm.notebook import tqdm\n",
    "import torch\n",
    "import botorch\n",
    "from pak.choose import *\n",
    "from pak.function import *\n",
    "from pak.GPmodel import fit_gp_model\n",
    "from pak.plotfunc import visualize_2d_contour\n",
    "from pak.AugmentedEI import AugmentedExpectedImprovement\n",
    "from skopt.sampler import Lhs\n",
    "import warnings\n",
    "warnings.filterwarnings(\"ignore\")\n",
    "torch.set_default_tensor_type(torch.DoubleTensor)\n",
    "\n",
    "func = 'Fn7'\n",
    "noise = 'M'\n",
    "funcname = func + noise"
   ]
  },
  {
   "cell_type": "markdown",
   "metadata": {},
   "source": [
    "#### 定义函数，搜索空间和预算个数"
   ]
  },
  {
   "cell_type": "code",
   "execution_count": 2,
   "metadata": {},
   "outputs": [],
   "source": [
    "fn = choose(funcname)[0]\n",
    "f = choose(funcname)[1]\n",
    "search_space = [[-5.0, 5.0], [-5.0, 5.0]] \n",
    "bounds = torch.tensor([[-5.0, -5.0], [5.0, 5.0]])\n",
    "budgets = 200"
   ]
  },
  {
   "cell_type": "markdown",
   "metadata": {},
   "source": [
    "#### 初始化(拉丁超立方采样)"
   ]
  },
  {
   "cell_type": "code",
   "execution_count": 3,
   "metadata": {},
   "outputs": [],
   "source": [
    "lhs = Lhs()\n",
    "samples = lhs.generate(search_space, n_samples=round(0.1*budgets))\n",
    "train_x = torch.tensor(samples)\n",
    "train_y = []\n",
    "for x in train_x:\n",
    "    train_y.append(fn(x.numpy()))\n",
    "train_y = torch.tensor(train_y)\n",
    "\n",
    "obs_x = torch.tensor(samples)"
   ]
  },
  {
   "cell_type": "code",
   "execution_count": 4,
   "metadata": {},
   "outputs": [
    {
     "data": {
      "application/vnd.jupyter.widget-view+json": {
       "model_id": "13468e0085044820bbb4a1760b2eb422",
       "version_major": 2,
       "version_minor": 0
      },
      "text/plain": [
       "  0%|          | 0/180 [00:00<?, ?it/s]"
      ]
     },
     "metadata": {},
     "output_type": "display_data"
    },
    {
     "ename": "TypeError",
     "evalue": "__init__() got an unexpected keyword argument 'posterior_transform'",
     "output_type": "error",
     "traceback": [
      "\u001b[1;31m---------------------------------------------------------------------------\u001b[0m",
      "\u001b[1;31mTypeError\u001b[0m                                 Traceback (most recent call last)",
      "Cell \u001b[1;32mIn[4], line 5\u001b[0m\n\u001b[0;32m      1\u001b[0m \u001b[38;5;28;01mfor\u001b[39;00m i \u001b[38;5;129;01min\u001b[39;00m tqdm(\u001b[38;5;28mrange\u001b[39m(budgets\u001b[38;5;241m-\u001b[39m\u001b[38;5;28mlen\u001b[39m(samples))):\n\u001b[0;32m      3\u001b[0m     model, likelihood \u001b[38;5;241m=\u001b[39m fit_gp_model(train_x, train_y)\n\u001b[1;32m----> 5\u001b[0m     policy \u001b[38;5;241m=\u001b[39m \u001b[43mAugmentedExpectedImprovement\u001b[49m\u001b[43m(\u001b[49m\n\u001b[0;32m      6\u001b[0m \u001b[43m        \u001b[49m\u001b[43mmodel\u001b[49m\u001b[43m,\u001b[49m\u001b[43m \u001b[49m\u001b[43mbest_f\u001b[49m\u001b[38;5;241;43m=\u001b[39;49m\u001b[43mmodel\u001b[49m\u001b[43m(\u001b[49m\u001b[43mtrain_x\u001b[49m\u001b[43m)\u001b[49m\u001b[38;5;241;43m.\u001b[39;49m\u001b[43mmean\u001b[49m\u001b[38;5;241;43m.\u001b[39;49m\u001b[43mmin\u001b[49m\u001b[43m(\u001b[49m\u001b[43m)\u001b[49m\u001b[43m,\u001b[49m\u001b[43m \u001b[49m\u001b[43mmaximize\u001b[49m\u001b[43m \u001b[49m\u001b[38;5;241;43m=\u001b[39;49m\u001b[43m \u001b[49m\u001b[38;5;28;43;01mFalse\u001b[39;49;00m\n\u001b[0;32m      7\u001b[0m \u001b[43m    \u001b[49m\u001b[43m)\u001b[49m\n\u001b[0;32m      9\u001b[0m     next_x, acq_val \u001b[38;5;241m=\u001b[39m botorch\u001b[38;5;241m.\u001b[39moptim\u001b[38;5;241m.\u001b[39moptimize_acqf( \n\u001b[0;32m     10\u001b[0m         policy,\n\u001b[0;32m     11\u001b[0m         bounds\u001b[38;5;241m=\u001b[39mbounds,\n\u001b[1;32m   (...)\u001b[0m\n\u001b[0;32m     14\u001b[0m         raw_samples\u001b[38;5;241m=\u001b[39m\u001b[38;5;241m100\u001b[39m,\n\u001b[0;32m     15\u001b[0m     )\n\u001b[0;32m     17\u001b[0m     next_x_obs \u001b[38;5;241m=\u001b[39m train_x[train_y\u001b[38;5;241m.\u001b[39margmin()]\u001b[38;5;241m.\u001b[39mreshape(\u001b[38;5;241m1\u001b[39m, \u001b[38;5;241m2\u001b[39m)\n",
      "File \u001b[1;32me:\\Project\\IDBO\\pak\\AugmentedEI.py:41\u001b[0m, in \u001b[0;36mAugmentedExpectedImprovement.__init__\u001b[1;34m(self, model, best_f, posterior_transform, maximize)\u001b[0m\n\u001b[0;32m     29\u001b[0m \u001b[38;5;250m\u001b[39m\u001b[38;5;124mr\u001b[39m\u001b[38;5;124;03m\"\"\"Single-outcome Expected Improvement (analytic).\u001b[39;00m\n\u001b[0;32m     30\u001b[0m \n\u001b[0;32m     31\u001b[0m \u001b[38;5;124;03mArgs:\u001b[39;00m\n\u001b[1;32m   (...)\u001b[0m\n\u001b[0;32m     38\u001b[0m \u001b[38;5;124;03m    maximize: If True, consider the problem a maximization problem.\u001b[39;00m\n\u001b[0;32m     39\u001b[0m \u001b[38;5;124;03m\"\"\"\u001b[39;00m\n\u001b[0;32m     40\u001b[0m \u001b[38;5;66;03m#legacy_ei_numerics_warning(legacy_name=type(self).__name__)\u001b[39;00m\n\u001b[1;32m---> 41\u001b[0m \u001b[38;5;28;43msuper\u001b[39;49m\u001b[43m(\u001b[49m\u001b[43m)\u001b[49m\u001b[38;5;241;43m.\u001b[39;49m\u001b[38;5;21;43m__init__\u001b[39;49m\u001b[43m(\u001b[49m\u001b[43mmodel\u001b[49m\u001b[38;5;241;43m=\u001b[39;49m\u001b[43mmodel\u001b[49m\u001b[43m,\u001b[49m\u001b[43m \u001b[49m\u001b[43mposterior_transform\u001b[49m\u001b[38;5;241;43m=\u001b[39;49m\u001b[43mposterior_transform\u001b[49m\u001b[43m)\u001b[49m\n\u001b[0;32m     42\u001b[0m \u001b[38;5;28mself\u001b[39m\u001b[38;5;241m.\u001b[39mregister_buffer(\u001b[38;5;124m\"\u001b[39m\u001b[38;5;124mbest_f\u001b[39m\u001b[38;5;124m\"\u001b[39m, torch\u001b[38;5;241m.\u001b[39mas_tensor(best_f))\n\u001b[0;32m     43\u001b[0m \u001b[38;5;28mself\u001b[39m\u001b[38;5;241m.\u001b[39mmaximize \u001b[38;5;241m=\u001b[39m maximize\n",
      "\u001b[1;31mTypeError\u001b[0m: __init__() got an unexpected keyword argument 'posterior_transform'"
     ]
    }
   ],
   "source": [
    "for i in tqdm(range(budgets-len(samples))):\n",
    "\n",
    "    model, likelihood = fit_gp_model(train_x, train_y)\n",
    "\n",
    "    policy = AugmentedExpectedImprovement(\n",
    "        model, best_f=model(train_x).mean.min(), maximize = False\n",
    "    )\n",
    "\n",
    "    next_x, acq_val = botorch.optim.optimize_acqf( \n",
    "        policy,\n",
    "        bounds=bounds,\n",
    "        q=1,\n",
    "        num_restarts=40,\n",
    "        raw_samples=100,\n",
    "    )\n",
    "\n",
    "    next_x_obs = train_x[train_y.argmin()].reshape(1, 2)\n",
    "\n",
    "    next_y = torch.tensor(fn(next_x.numpy()))\n",
    "\n",
    "    train_x = torch.cat([train_x, next_x])\n",
    "    train_y = torch.cat([train_y, next_y])\n",
    "\n",
    "    obs_x  = torch.cat([obs_x, next_x_obs])   "
   ]
  },
  {
   "cell_type": "code",
   "execution_count": 5,
   "metadata": {},
   "outputs": [],
   "source": [
    "x1_range = torch.linspace(-5, 5, 1000)\n",
    "x2_range = torch.linspace(-5, 5, 1000)\n",
    "X1, X2 = torch.meshgrid(x1_range, x2_range, indexing=\"ij\")\n",
    "xs = torch.vstack((X1.flatten(), X2.flatten())).transpose(-1, -2)\n",
    "suggest_x = train_x[train_y.argmin()].numpy()\n",
    "suggest_y = f(suggest_x)\n",
    "suggest = [suggest_x,suggest_y]"
   ]
  },
  {
   "cell_type": "code",
   "execution_count": null,
   "metadata": {},
   "outputs": [],
   "source": [
    "data = f(xs.numpy())\n",
    "visualize_2d_contour(name='Objective function '+funcname+'(noisefree)',x1_range=x1_range,x2_range=x2_range, data=data, train_x=train_x,labelx=\"AEI\")"
   ]
  },
  {
   "cell_type": "code",
   "execution_count": null,
   "metadata": {},
   "outputs": [],
   "source": [
    "data = model(xs).mean.detach().numpy()\n",
    "visualize_2d_contour(name='Predictive function '+funcname,x1_range=x1_range,x2_range=x2_range,data=data,train_x=train_x,suggest=suggest,labelx=\"EI\")"
   ]
  },
  {
   "cell_type": "code",
   "execution_count": null,
   "metadata": {},
   "outputs": [],
   "source": [
    "data = model(xs).mean.detach().numpy()\n",
    "visualize_2d_contour(name='Predictive function '+funcname,x1_range=x1_range,x2_range=x2_range,data=data,train_x=obs_x[round(0.1*budgets):],suggest=suggest,labelx=\"obs\")"
   ]
  },
  {
   "cell_type": "code",
   "execution_count": null,
   "metadata": {},
   "outputs": [],
   "source": []
  }
 ],
 "metadata": {
  "kernelspec": {
   "display_name": ".venv",
   "language": "python",
   "name": "python3"
  },
  "language_info": {
   "codemirror_mode": {
    "name": "ipython",
    "version": 3
   },
   "file_extension": ".py",
   "mimetype": "text/x-python",
   "name": "python",
   "nbconvert_exporter": "python",
   "pygments_lexer": "ipython3",
   "version": "3.8.20"
  },
  "orig_nbformat": 4
 },
 "nbformat": 4,
 "nbformat_minor": 2
}
