{
 "cells": [
  {
   "cell_type": "code",
   "execution_count": 72,
   "metadata": {},
   "outputs": [],
   "source": [
    "import numpy as np\n",
    "import pandas as pd\n",
    "from tqdm.notebook import tqdm\n",
    "import torch\n",
    "import botorch\n",
    "from pak.choose import *\n",
    "from pak.function import *\n",
    "from pak.GPmodel import fit_gp_model\n",
    "from pak.plotfunc import visualize_2d_contour\n",
    "from skopt.sampler import Lhs\n",
    "import warnings\n",
    "warnings.filterwarnings(\"ignore\")\n",
    "torch.set_default_tensor_type(torch.DoubleTensor)\n",
    "\n",
    "func = 'Fn7'\n",
    "noise = 'M'\n",
    "funcname = func + noise"
   ]
  },
  {
   "cell_type": "markdown",
   "metadata": {},
   "source": [
    "#### 定义函数，搜索空间和预算个数"
   ]
  },
  {
   "cell_type": "code",
   "execution_count": 73,
   "metadata": {},
   "outputs": [],
   "source": [
    "fn = choose(funcname)[0]\n",
    "f = choose(funcname)[1]\n",
    "search_space = [[-5.0, 5.0], [-5.0, 5.0]] \n",
    "bounds = torch.tensor([[-5.0, -5.0], [5.0, 5.0]])\n",
    "budgets = 300"
   ]
  },
  {
   "cell_type": "markdown",
   "metadata": {},
   "source": [
    "#### 初始化(拉丁超立方采样)"
   ]
  },
  {
   "cell_type": "code",
   "execution_count": 74,
   "metadata": {},
   "outputs": [],
   "source": [
    "lhs = Lhs()\n",
    "samples = lhs.generate(search_space, n_samples=round(0.1*budgets))\n",
    "train_x = torch.tensor(samples)\n",
    "train_y = []\n",
    "for x in train_x:\n",
    "    train_y.append(fn(x.numpy()))\n",
    "train_y = torch.tensor(train_y)\n",
    "\n",
    "obs_M_x = torch.tensor(samples)\n",
    "total_x = torch.tensor(samples)"
   ]
  },
  {
   "cell_type": "code",
   "execution_count": null,
   "metadata": {},
   "outputs": [],
   "source": [
    "for i in tqdm(range(budgets-len(samples))):\n",
    "\n",
    "    model, likelihood = fit_gp_model(train_x, train_y)\n",
    "\n",
    "    policy = botorch.acquisition.analytic.ExpectedImprovement(\n",
    "        model, best_f=model(train_x).mean.min(), maximize = False\n",
    "    )\n",
    "\n",
    "    total = botorch.acquisition.analytic.UpperConfidenceBound(\n",
    "        model, beta = 0.0, maximize = False\n",
    "    )\n",
    "\n",
    "    next_x, acq_val = botorch.optim.optimize_acqf(\n",
    "        policy,\n",
    "        bounds=bounds,\n",
    "        q=1,\n",
    "        num_restarts=40,\n",
    "        raw_samples=100,\n",
    "    )\n",
    "\n",
    "    next_x_total, acq_val_total = botorch.optim.optimize_acqf(\n",
    "        total,\n",
    "        bounds=bounds,\n",
    "        q=1,\n",
    "        num_restarts=40,\n",
    "        raw_samples=100,\n",
    "    )\n",
    "\n",
    "    next_x_obs_M = train_x[model(train_x).mean.argmin()].reshape(1, 2)\n",
    "\n",
    "    next_y = torch.tensor(fn(next_x.numpy()))\n",
    "\n",
    "    train_x = torch.cat([train_x, next_x])\n",
    "    train_y = torch.cat([train_y, next_y])\n",
    "\n",
    "    obs_M_x  = torch.cat([obs_M_x, next_x_obs_M])\n",
    "    total_x = torch.cat([total_x, next_x_total])"
   ]
  },
  {
   "cell_type": "code",
   "execution_count": 76,
   "metadata": {},
   "outputs": [],
   "source": [
    "x1_range = torch.linspace(-5, 5, 1000)\n",
    "x2_range = torch.linspace(-5, 5, 1000)\n",
    "X1, X2 = torch.meshgrid(x1_range, x2_range, indexing=\"ij\")\n",
    "xs = torch.vstack((X1.flatten(), X2.flatten())).transpose(-1, -2)\n",
    "suggest_x = train_x[model(train_x).mean.argmin()].numpy()\n",
    "suggest_y = f(suggest_x)\n",
    "suggest = [suggest_x,suggest_y]"
   ]
  },
  {
   "cell_type": "code",
   "execution_count": 79,
   "metadata": {},
   "outputs": [],
   "source": [
    "dict = {\n",
    "    'Function':func,\n",
    "    'Noise level':noise,\n",
    "    'Repeated round':1,\n",
    "    'iteration':np.arange(1,budgets+1,1),\n",
    "    'x1':train_x[:,0].numpy(),\n",
    "    'x2':train_x[:,1].numpy(),\n",
    "    'Observed value':train_y.numpy(),\n",
    "    'Real value':f(train_x.numpy()),\n",
    "    'obs_M_x1':obs_M_x[:,0].numpy(),\n",
    "    'obs_M_x2':obs_M_x[:,1].numpy(),\n",
    "    'Real value(obs_M)':f(obs_M_x.numpy()),\n",
    "    'total_x1':total_x[:,0].numpy(),\n",
    "    'total_x2':total_x[:,1].numpy(),\n",
    "    'Real value(total)':f(total_x.numpy()),\n",
    "}\n",
    "pd.DataFrame(dict).to_csv('data\\\\EIM.csv',mode='a')"
   ]
  },
  {
   "cell_type": "code",
   "execution_count": null,
   "metadata": {},
   "outputs": [],
   "source": [
    "data = f(xs.numpy())\n",
    "visualize_2d_contour(name='Objective function '+funcname+'(noisefree)',x1_range=x1_range,x2_range=x2_range, data=data, train_x=train_x,labelx=\"EIM\")"
   ]
  },
  {
   "cell_type": "code",
   "execution_count": null,
   "metadata": {},
   "outputs": [],
   "source": [
    "data = model(xs).mean.detach().numpy()\n",
    "visualize_2d_contour(name='Predictive function '+funcname,x1_range=x1_range,x2_range=x2_range,data=data,train_x=train_x,suggest=suggest,labelx=\"EIM\")"
   ]
  },
  {
   "cell_type": "code",
   "execution_count": null,
   "metadata": {},
   "outputs": [],
   "source": [
    "suggest_x_total = total_x[-1].numpy()\n",
    "suggest_y_total = f(suggest_x)\n",
    "suggest = [suggest_x_total,suggest_y_total]\n",
    "data = model(xs).mean.detach().numpy()\n",
    "visualize_2d_contour(name='Predictive function '+funcname,x1_range=x1_range,x2_range=x2_range,data=data,train_x=total_x,suggest=suggest,labelx=\"Total\")"
   ]
  },
  {
   "cell_type": "code",
   "execution_count": null,
   "metadata": {},
   "outputs": [],
   "source": []
  }
 ],
 "metadata": {
  "kernelspec": {
   "display_name": ".venv",
   "language": "python",
   "name": "python3"
  },
  "language_info": {
   "codemirror_mode": {
    "name": "ipython",
    "version": 3
   },
   "file_extension": ".py",
   "mimetype": "text/x-python",
   "name": "python",
   "nbconvert_exporter": "python",
   "pygments_lexer": "ipython3",
   "version": "3.8.20"
  },
  "orig_nbformat": 4
 },
 "nbformat": 4,
 "nbformat_minor": 2
}
