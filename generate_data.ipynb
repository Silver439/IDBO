{
 "cells": [
  {
   "cell_type": "code",
   "execution_count": 2,
   "metadata": {},
   "outputs": [],
   "source": [
    "import numpy as np\n",
    "import pandas as pd\n",
    "import torch\n",
    "from tqdm.notebook import tqdm\n",
    "import botorch\n",
    "from pak.choose import *\n",
    "from pak.function import *\n",
    "from pak.GPmodel import fit_gp_model\n",
    "from pak.AugmentedEI import AugmentedExpectedImprovement\n",
    "from skopt.sampler import Lhs\n",
    "import warnings\n",
    "warnings.filterwarnings(\"ignore\")\n",
    "torch.set_default_tensor_type(torch.DoubleTensor)"
   ]
  },
  {
   "cell_type": "markdown",
   "metadata": {},
   "source": [
    "### EI"
   ]
  },
  {
   "cell_type": "code",
   "execution_count": null,
   "metadata": {},
   "outputs": [],
   "source": [
    "# funcs = ['Fn1','Fn2','Fn7','Fn8','Fn10','Fn13','Fn18','Fn19','Fn22']\n",
    "funcs = ['Fn1',]\n",
    "noise = 'S'\n",
    "for func in funcs:\n",
    "    funcname = func + noise\n",
    "\n",
    "    fn = choose(funcname)[0]\n",
    "    f = choose(funcname)[1]\n",
    "    search_space = [[-5.0, 5.0], [-5.0, 5.0]] \n",
    "    bounds = torch.tensor([[-5.0, -5.0], [5.0, 5.0]])\n",
    "    budgets = 10\n",
    "\n",
    "    for i in range(2):\n",
    "\n",
    "        lhs = Lhs()\n",
    "        initial_budgets = round(0.1*budgets)\n",
    "        samples = lhs.generate(search_space, n_samples=initial_budgets)\n",
    "        train_x = torch.tensor(samples)\n",
    "        train_y = []\n",
    "        for x in train_x:\n",
    "            train_y.append(fn(x.numpy()))\n",
    "        train_y = torch.tensor(train_y)\n",
    "\n",
    "        obs_x = torch.tensor([])\n",
    "\n",
    "        for j in tqdm(range(budgets-len(samples))):\n",
    "\n",
    "            model, likelihood = fit_gp_model(train_x, train_y)\n",
    "\n",
    "            policy = botorch.acquisition.analytic.ExpectedImprovement(\n",
    "                model, best_f=train_y.min(), maximize = False\n",
    "            )\n",
    "\n",
    "            next_x, acq_val = botorch.optim.optimize_acqf(\n",
    "                policy,\n",
    "                bounds=bounds,\n",
    "                q=1,\n",
    "                num_restarts=40,\n",
    "                raw_samples=100,\n",
    "            )\n",
    "\n",
    "            next_x_obs = train_x[train_y.argmin()].reshape(1, 2)\n",
    "            if j==0:\n",
    "                obs_x = torch.tensor([next_x_obs[0].numpy().tolist()]*initial_budgets)\n",
    "\n",
    "            next_y = torch.tensor(fn(next_x.numpy()))\n",
    "\n",
    "            train_x = torch.cat([train_x, next_x])\n",
    "            train_y = torch.cat([train_y, next_y])\n",
    "\n",
    "            obs_x  = torch.cat([obs_x, next_x])\n",
    "\n",
    "        obs_dict = {\n",
    "            'Function':func,\n",
    "            'Noise level':noise,\n",
    "            'acquisition function':'EI',\n",
    "            'Repeated round':int(i+1),\n",
    "            'iteration':np.arange(1,budgets+1,1).astype(int),\n",
    "            'x1':train_x[:,0].numpy(),\n",
    "            'x2':train_x[:,1].numpy(),\n",
    "            'Real value':f(train_x.numpy()),\n",
    "            'obs_x1':obs_x[:,0].numpy(),\n",
    "            'obs_x2':obs_x[:,1].numpy(),\n",
    "            'Real value(obs)':f(obs_x.numpy()),\n",
    "        }\n",
    "        pd.DataFrame(obs_dict).to_csv('data\\\\obs.csv',mode='a',index=False,header=False)\n",
    "\n",
    "        print(' ')\n",
    "        print(funcname+': round'+str(i+1))"
   ]
  },
  {
   "cell_type": "markdown",
   "metadata": {},
   "source": [
    "### EIM"
   ]
  },
  {
   "cell_type": "code",
   "execution_count": null,
   "metadata": {},
   "outputs": [],
   "source": [
    "# funcs = ['Fn1','Fn2','Fn7','Fn8','Fn10','Fn13','Fn18','Fn19','Fn22']\n",
    "funcs = ['Fn1',]\n",
    "noise = 'S'\n",
    "for func in funcs:\n",
    "    funcname = func + noise\n",
    "\n",
    "    fn = choose(funcname)[0]\n",
    "    f = choose(funcname)[1]\n",
    "    search_space = [[-5.0, 5.0], [-5.0, 5.0]] \n",
    "    bounds = torch.tensor([[-5.0, -5.0], [5.0, 5.0]])\n",
    "    budgets = 10\n",
    "\n",
    "    for i in range(1):\n",
    "\n",
    "        lhs = Lhs()\n",
    "        initial_budgets = round(0.1*budgets)\n",
    "        samples = lhs.generate(search_space, n_samples=initial_budgets)\n",
    "        train_x = torch.tensor(samples)\n",
    "        train_y = []\n",
    "        for x in train_x:\n",
    "            train_y.append(fn(x.numpy()))\n",
    "        train_y = torch.tensor(train_y)\n",
    "\n",
    "        obs_M_x = torch.tensor([])\n",
    "        total_x = torch.tensor([])\n",
    "\n",
    "        for j in tqdm(range(budgets-len(samples))):\n",
    "\n",
    "            model, likelihood = fit_gp_model(train_x, train_y)\n",
    "\n",
    "            policy = botorch.acquisition.analytic.ExpectedImprovement(\n",
    "                model, best_f=model(train_x).mean.min(), maximize = False\n",
    "            )\n",
    "\n",
    "            total = botorch.acquisition.analytic.UpperConfidenceBound(\n",
    "                model, beta = 0.0, maximize = False\n",
    "            )\n",
    "\n",
    "            next_x, acq_val = botorch.optim.optimize_acqf(\n",
    "                policy,\n",
    "                bounds=bounds,\n",
    "                q=1,\n",
    "                num_restarts=40,\n",
    "                raw_samples=100,\n",
    "            )\n",
    "\n",
    "            next_x_total, acq_val_total = botorch.optim.optimize_acqf(\n",
    "                total,\n",
    "                bounds=bounds,\n",
    "                q=1,\n",
    "                num_restarts=40,\n",
    "                raw_samples=100,\n",
    "            )\n",
    "\n",
    "            next_x_obs_M = train_x[model(train_x).mean.argmin()].reshape(1, 2)\n",
    "            if j==0:\n",
    "                obs_M_x = torch.tensor([next_x_obs_M[0].numpy().tolist()]*initial_budgets)\n",
    "                total_x = torch.tensor([next_x_total[0].numpy().tolist()]*initial_budgets)\n",
    "\n",
    "            next_y = torch.tensor(fn(next_x.numpy()))\n",
    "\n",
    "            train_x = torch.cat([train_x, next_x])\n",
    "            train_y = torch.cat([train_y, next_y])\n",
    "\n",
    "            obs_M_x  = torch.cat([obs_M_x, next_x_obs_M])\n",
    "            total_x = torch.cat([total_x, next_x_total])\n",
    "\n",
    "        obs_M_dict = {\n",
    "            'Function':func,\n",
    "            'Noise level':noise,\n",
    "            'acquisition function':'EIM',\n",
    "            'Repeated round':i+1,\n",
    "            'iteration':np.arange(1,budgets+1,1),\n",
    "            'x1':train_x[:,0].numpy(),\n",
    "            'x2':train_x[:,1].numpy(),\n",
    "            'Real value':f(train_x.numpy()),\n",
    "            'obs_M_x1':obs_M_x[:,0].numpy(),\n",
    "            'obs_M_x2':obs_M_x[:,1].numpy(),\n",
    "            'Real value(obs_M)':f(obs_M_x.numpy()),\n",
    "        }\n",
    "        pd.DataFrame(obs_M_dict).to_csv('data\\\\obs_M.csv',mode='a',index=False,header=True)\n",
    "\n",
    "        total_dict = {\n",
    "            'Function':func,\n",
    "            'Noise level':noise,\n",
    "            'acquisition function':'EIM',\n",
    "            'Repeated round':i+1,\n",
    "            'iteration':np.arange(1,budgets+1,1),\n",
    "            'x1':train_x[:,0].numpy(),\n",
    "            'x2':train_x[:,1].numpy(),\n",
    "            'Real value':f(train_x.numpy()),\n",
    "            'total_x1':total_x[:,0].numpy(),\n",
    "            'total_x2':total_x[:,1].numpy(),\n",
    "            'Real value(total)':f(total_x.numpy()),\n",
    "        }\n",
    "        pd.DataFrame(total_dict).to_csv('data\\\\total.csv',mode='a',index=False,header=True)\n",
    "        print(' ')\n",
    "        print(funcname+': round'+str(i+1))"
   ]
  },
  {
   "cell_type": "markdown",
   "metadata": {},
   "source": [
    "### ALL"
   ]
  },
  {
   "cell_type": "code",
   "execution_count": 16,
   "metadata": {},
   "outputs": [
    {
     "data": {
      "application/vnd.jupyter.widget-view+json": {
       "model_id": "3ed176cfd2b241f7929d4bb63b402164",
       "version_major": 2,
       "version_minor": 0
      },
      "text/plain": [
       "  0%|          | 0/270 [00:00<?, ?it/s]"
      ]
     },
     "metadata": {},
     "output_type": "display_data"
    },
    {
     "name": "stdout",
     "output_type": "stream",
     "text": [
      " \n",
      "Fn1S: round2\n"
     ]
    },
    {
     "data": {
      "application/vnd.jupyter.widget-view+json": {
       "model_id": "c5762ae520c44fcfb2499079ec9356c8",
       "version_major": 2,
       "version_minor": 0
      },
      "text/plain": [
       "  0%|          | 0/270 [00:00<?, ?it/s]"
      ]
     },
     "metadata": {},
     "output_type": "display_data"
    },
    {
     "name": "stdout",
     "output_type": "stream",
     "text": [
      " \n",
      "Fn1S: round3\n"
     ]
    },
    {
     "data": {
      "application/vnd.jupyter.widget-view+json": {
       "model_id": "618d1278188143458413577c90cb86c0",
       "version_major": 2,
       "version_minor": 0
      },
      "text/plain": [
       "  0%|          | 0/270 [00:00<?, ?it/s]"
      ]
     },
     "metadata": {},
     "output_type": "display_data"
    },
    {
     "name": "stdout",
     "output_type": "stream",
     "text": [
      " \n",
      "Fn1S: round4\n"
     ]
    },
    {
     "data": {
      "application/vnd.jupyter.widget-view+json": {
       "model_id": "50b9aae292fd45d6a62f80d163cc9d17",
       "version_major": 2,
       "version_minor": 0
      },
      "text/plain": [
       "  0%|          | 0/270 [00:00<?, ?it/s]"
      ]
     },
     "metadata": {},
     "output_type": "display_data"
    },
    {
     "name": "stdout",
     "output_type": "stream",
     "text": [
      " \n",
      "Fn1S: round5\n"
     ]
    },
    {
     "data": {
      "application/vnd.jupyter.widget-view+json": {
       "model_id": "93d7e4371b804defa96974ed41e8998f",
       "version_major": 2,
       "version_minor": 0
      },
      "text/plain": [
       "  0%|          | 0/270 [00:00<?, ?it/s]"
      ]
     },
     "metadata": {},
     "output_type": "display_data"
    },
    {
     "name": "stdout",
     "output_type": "stream",
     "text": [
      " \n",
      "Fn1S: round6\n"
     ]
    },
    {
     "data": {
      "application/vnd.jupyter.widget-view+json": {
       "model_id": "7cf8f6fcc0ac45ea998ecfe941726fe6",
       "version_major": 2,
       "version_minor": 0
      },
      "text/plain": [
       "  0%|          | 0/270 [00:00<?, ?it/s]"
      ]
     },
     "metadata": {},
     "output_type": "display_data"
    },
    {
     "name": "stdout",
     "output_type": "stream",
     "text": [
      " \n",
      "Fn1S: round7\n"
     ]
    },
    {
     "data": {
      "application/vnd.jupyter.widget-view+json": {
       "model_id": "f3706ff74df54120874a607612bdfa5b",
       "version_major": 2,
       "version_minor": 0
      },
      "text/plain": [
       "  0%|          | 0/270 [00:00<?, ?it/s]"
      ]
     },
     "metadata": {},
     "output_type": "display_data"
    },
    {
     "name": "stdout",
     "output_type": "stream",
     "text": [
      " \n",
      "Fn1S: round8\n"
     ]
    },
    {
     "data": {
      "application/vnd.jupyter.widget-view+json": {
       "model_id": "9d0f5b749f77471199ee0576238a6b94",
       "version_major": 2,
       "version_minor": 0
      },
      "text/plain": [
       "  0%|          | 0/270 [00:00<?, ?it/s]"
      ]
     },
     "metadata": {},
     "output_type": "display_data"
    },
    {
     "name": "stdout",
     "output_type": "stream",
     "text": [
      " \n",
      "Fn1S: round9\n"
     ]
    },
    {
     "data": {
      "application/vnd.jupyter.widget-view+json": {
       "model_id": "4ca0dc58a8c94bfa9b871b96f86a793a",
       "version_major": 2,
       "version_minor": 0
      },
      "text/plain": [
       "  0%|          | 0/270 [00:00<?, ?it/s]"
      ]
     },
     "metadata": {},
     "output_type": "display_data"
    },
    {
     "name": "stdout",
     "output_type": "stream",
     "text": [
      " \n",
      "Fn1S: round10\n"
     ]
    },
    {
     "data": {
      "application/vnd.jupyter.widget-view+json": {
       "model_id": "7eccef0d27a443aead3ecd79596bce5b",
       "version_major": 2,
       "version_minor": 0
      },
      "text/plain": [
       "  0%|          | 0/270 [00:00<?, ?it/s]"
      ]
     },
     "metadata": {},
     "output_type": "display_data"
    },
    {
     "name": "stdout",
     "output_type": "stream",
     "text": [
      " \n",
      "Fn1S: round11\n"
     ]
    },
    {
     "data": {
      "application/vnd.jupyter.widget-view+json": {
       "model_id": "205feea296b84cb2ae936dff00a97ffc",
       "version_major": 2,
       "version_minor": 0
      },
      "text/plain": [
       "  0%|          | 0/270 [00:00<?, ?it/s]"
      ]
     },
     "metadata": {},
     "output_type": "display_data"
    },
    {
     "name": "stdout",
     "output_type": "stream",
     "text": [
      " \n",
      "Fn1S: round12\n"
     ]
    },
    {
     "data": {
      "application/vnd.jupyter.widget-view+json": {
       "model_id": "ffee846f4a174681bb247d1a2be72447",
       "version_major": 2,
       "version_minor": 0
      },
      "text/plain": [
       "  0%|          | 0/270 [00:00<?, ?it/s]"
      ]
     },
     "metadata": {},
     "output_type": "display_data"
    },
    {
     "name": "stdout",
     "output_type": "stream",
     "text": [
      " \n",
      "Fn1S: round13\n"
     ]
    },
    {
     "data": {
      "application/vnd.jupyter.widget-view+json": {
       "model_id": "c542125d67864cbb8ee51133602fb421",
       "version_major": 2,
       "version_minor": 0
      },
      "text/plain": [
       "  0%|          | 0/270 [00:00<?, ?it/s]"
      ]
     },
     "metadata": {},
     "output_type": "display_data"
    },
    {
     "name": "stdout",
     "output_type": "stream",
     "text": [
      " \n",
      "Fn1S: round14\n"
     ]
    },
    {
     "data": {
      "application/vnd.jupyter.widget-view+json": {
       "model_id": "7f0efb9ca64e40e2a72ebf812615b410",
       "version_major": 2,
       "version_minor": 0
      },
      "text/plain": [
       "  0%|          | 0/270 [00:00<?, ?it/s]"
      ]
     },
     "metadata": {},
     "output_type": "display_data"
    },
    {
     "name": "stdout",
     "output_type": "stream",
     "text": [
      " \n",
      "Fn1S: round15\n"
     ]
    },
    {
     "data": {
      "application/vnd.jupyter.widget-view+json": {
       "model_id": "9343b8b124c244ce8f6e0747b92af6a7",
       "version_major": 2,
       "version_minor": 0
      },
      "text/plain": [
       "  0%|          | 0/270 [00:00<?, ?it/s]"
      ]
     },
     "metadata": {},
     "output_type": "display_data"
    },
    {
     "name": "stdout",
     "output_type": "stream",
     "text": [
      " \n",
      "Fn1S: round16\n"
     ]
    },
    {
     "data": {
      "application/vnd.jupyter.widget-view+json": {
       "model_id": "ecfaaca9a2aa44df8072dced3d30e258",
       "version_major": 2,
       "version_minor": 0
      },
      "text/plain": [
       "  0%|          | 0/270 [00:00<?, ?it/s]"
      ]
     },
     "metadata": {},
     "output_type": "display_data"
    },
    {
     "name": "stdout",
     "output_type": "stream",
     "text": [
      " \n",
      "Fn1S: round17\n"
     ]
    },
    {
     "data": {
      "application/vnd.jupyter.widget-view+json": {
       "model_id": "538837ae43764e70b5752db81d79a25c",
       "version_major": 2,
       "version_minor": 0
      },
      "text/plain": [
       "  0%|          | 0/270 [00:00<?, ?it/s]"
      ]
     },
     "metadata": {},
     "output_type": "display_data"
    },
    {
     "name": "stdout",
     "output_type": "stream",
     "text": [
      " \n",
      "Fn1S: round18\n"
     ]
    },
    {
     "data": {
      "application/vnd.jupyter.widget-view+json": {
       "model_id": "c64abe9fcfc94b8389e563bcc426a4e0",
       "version_major": 2,
       "version_minor": 0
      },
      "text/plain": [
       "  0%|          | 0/270 [00:00<?, ?it/s]"
      ]
     },
     "metadata": {},
     "output_type": "display_data"
    },
    {
     "name": "stdout",
     "output_type": "stream",
     "text": [
      " \n",
      "Fn1S: round19\n"
     ]
    },
    {
     "data": {
      "application/vnd.jupyter.widget-view+json": {
       "model_id": "445a20118ac340989c22865026a0ce5e",
       "version_major": 2,
       "version_minor": 0
      },
      "text/plain": [
       "  0%|          | 0/270 [00:00<?, ?it/s]"
      ]
     },
     "metadata": {},
     "output_type": "display_data"
    },
    {
     "name": "stdout",
     "output_type": "stream",
     "text": [
      " \n",
      "Fn1S: round20\n"
     ]
    },
    {
     "data": {
      "application/vnd.jupyter.widget-view+json": {
       "model_id": "b8daebea19134c32b86a072af5190b35",
       "version_major": 2,
       "version_minor": 0
      },
      "text/plain": [
       "  0%|          | 0/270 [00:00<?, ?it/s]"
      ]
     },
     "metadata": {},
     "output_type": "display_data"
    },
    {
     "name": "stdout",
     "output_type": "stream",
     "text": [
      " \n",
      "Fn1S: round21\n"
     ]
    },
    {
     "data": {
      "application/vnd.jupyter.widget-view+json": {
       "model_id": "9883efd165754786852f94befd587d75",
       "version_major": 2,
       "version_minor": 0
      },
      "text/plain": [
       "  0%|          | 0/270 [00:00<?, ?it/s]"
      ]
     },
     "metadata": {},
     "output_type": "display_data"
    },
    {
     "name": "stdout",
     "output_type": "stream",
     "text": [
      " \n",
      "Fn1S: round22\n"
     ]
    },
    {
     "data": {
      "application/vnd.jupyter.widget-view+json": {
       "model_id": "1bd96192337a4c59bec0163592834fd4",
       "version_major": 2,
       "version_minor": 0
      },
      "text/plain": [
       "  0%|          | 0/270 [00:00<?, ?it/s]"
      ]
     },
     "metadata": {},
     "output_type": "display_data"
    },
    {
     "name": "stdout",
     "output_type": "stream",
     "text": [
      " \n",
      "Fn1S: round23\n"
     ]
    },
    {
     "data": {
      "application/vnd.jupyter.widget-view+json": {
       "model_id": "fa51e23cf3134669a8e4ff0d1b1e6fcb",
       "version_major": 2,
       "version_minor": 0
      },
      "text/plain": [
       "  0%|          | 0/270 [00:00<?, ?it/s]"
      ]
     },
     "metadata": {},
     "output_type": "display_data"
    },
    {
     "name": "stdout",
     "output_type": "stream",
     "text": [
      " \n",
      "Fn1S: round24\n"
     ]
    },
    {
     "data": {
      "application/vnd.jupyter.widget-view+json": {
       "model_id": "4b5354d4aea14c3d935fdbe7943daa48",
       "version_major": 2,
       "version_minor": 0
      },
      "text/plain": [
       "  0%|          | 0/270 [00:00<?, ?it/s]"
      ]
     },
     "metadata": {},
     "output_type": "display_data"
    },
    {
     "name": "stdout",
     "output_type": "stream",
     "text": [
      " \n",
      "Fn1S: round25\n"
     ]
    },
    {
     "data": {
      "application/vnd.jupyter.widget-view+json": {
       "model_id": "b502566f615d472390e3b72787da426a",
       "version_major": 2,
       "version_minor": 0
      },
      "text/plain": [
       "  0%|          | 0/270 [00:00<?, ?it/s]"
      ]
     },
     "metadata": {},
     "output_type": "display_data"
    },
    {
     "name": "stdout",
     "output_type": "stream",
     "text": [
      " \n",
      "Fn1S: round26\n"
     ]
    },
    {
     "data": {
      "application/vnd.jupyter.widget-view+json": {
       "model_id": "b0700812e285409dbc807aab9d7a1f5f",
       "version_major": 2,
       "version_minor": 0
      },
      "text/plain": [
       "  0%|          | 0/270 [00:00<?, ?it/s]"
      ]
     },
     "metadata": {},
     "output_type": "display_data"
    },
    {
     "name": "stdout",
     "output_type": "stream",
     "text": [
      " \n",
      "Fn1S: round27\n"
     ]
    },
    {
     "data": {
      "application/vnd.jupyter.widget-view+json": {
       "model_id": "124bdcbce923482882f7d3601fd732bb",
       "version_major": 2,
       "version_minor": 0
      },
      "text/plain": [
       "  0%|          | 0/270 [00:00<?, ?it/s]"
      ]
     },
     "metadata": {},
     "output_type": "display_data"
    },
    {
     "name": "stdout",
     "output_type": "stream",
     "text": [
      " \n",
      "Fn1S: round28\n"
     ]
    },
    {
     "data": {
      "application/vnd.jupyter.widget-view+json": {
       "model_id": "8934140e1e2c4e4583a16c34e7713590",
       "version_major": 2,
       "version_minor": 0
      },
      "text/plain": [
       "  0%|          | 0/270 [00:00<?, ?it/s]"
      ]
     },
     "metadata": {},
     "output_type": "display_data"
    },
    {
     "name": "stdout",
     "output_type": "stream",
     "text": [
      " \n",
      "Fn1S: round29\n"
     ]
    },
    {
     "data": {
      "application/vnd.jupyter.widget-view+json": {
       "model_id": "126e3a578e544f7cb68d8db04a6b092d",
       "version_major": 2,
       "version_minor": 0
      },
      "text/plain": [
       "  0%|          | 0/270 [00:00<?, ?it/s]"
      ]
     },
     "metadata": {},
     "output_type": "display_data"
    },
    {
     "name": "stdout",
     "output_type": "stream",
     "text": [
      " \n",
      "Fn1S: round30\n"
     ]
    }
   ],
   "source": [
    "# funcs = ['Fn1','Fn2','Fn7','Fn8','Fn10','Fn13','Fn18','Fn19','Fn22']\n",
    "funcs = ['Fn1',]\n",
    "noise = 'S'\n",
    "acq = 'AEI'\n",
    "for func in funcs:\n",
    "    funcname = func + noise\n",
    "\n",
    "    fn = choose(funcname)[0]\n",
    "    f = choose(funcname)[1]\n",
    "    search_space = [[-5.0, 5.0], [-5.0, 5.0]] \n",
    "    bounds = torch.tensor([[-5.0, -5.0], [5.0, 5.0]])\n",
    "    budgets = 300\n",
    "\n",
    "    for i in range(1,30):\n",
    "\n",
    "        lhs = Lhs()\n",
    "        initial_budgets = round(0.1*budgets)\n",
    "        samples = lhs.generate(search_space, n_samples=initial_budgets)\n",
    "        train_x = torch.tensor(samples)\n",
    "        train_y = []\n",
    "        for x in train_x:\n",
    "            train_y.append(fn(x.numpy()))\n",
    "        train_y = torch.tensor(train_y)\n",
    "\n",
    "        obs_x = torch.tensor([])\n",
    "        obs_M_x = torch.tensor([])\n",
    "        total_x = torch.tensor([])\n",
    "\n",
    "        for j in tqdm(range(budgets-len(samples))):\n",
    "\n",
    "            model, likelihood = fit_gp_model(train_x, train_y)\n",
    "\n",
    "            policy = botorch.acquisition.analytic.ExpectedImprovement( #########\n",
    "                model, best_f=model(train_x).mean.min(), maximize = False\n",
    "            )\n",
    "\n",
    "            total = botorch.acquisition.analytic.UpperConfidenceBound(\n",
    "                model, beta = 0.0, maximize = False\n",
    "            )\n",
    "\n",
    "            next_x, acq_val = botorch.optim.optimize_acqf(\n",
    "                policy,\n",
    "                bounds=bounds,\n",
    "                q=1,\n",
    "                num_restarts=40,\n",
    "                raw_samples=100,\n",
    "            )\n",
    "\n",
    "            next_x_total, acq_val_total = botorch.optim.optimize_acqf(\n",
    "                total,\n",
    "                bounds=bounds,\n",
    "                q=1,\n",
    "                num_restarts=40,\n",
    "                raw_samples=100,\n",
    "            )\n",
    "\n",
    "            next_x_obs = train_x[train_y.argmin()].reshape(1, 2)\n",
    "            next_x_obs_M = train_x[model(train_x).mean.argmin()].reshape(1, 2)\n",
    "\n",
    "            if j==0:\n",
    "                obs_x = torch.tensor([next_x_obs[0].numpy().tolist()]*initial_budgets)\n",
    "                obs_M_x = torch.tensor([next_x_obs_M[0].numpy().tolist()]*initial_budgets)\n",
    "                total_x = torch.tensor([next_x_total[0].numpy().tolist()]*initial_budgets)\n",
    "\n",
    "            next_y = torch.tensor(fn(next_x.numpy()))\n",
    "\n",
    "            train_x = torch.cat([train_x, next_x])\n",
    "            train_y = torch.cat([train_y, next_y])\n",
    "\n",
    "            obs_x  = torch.cat([obs_x, next_x])\n",
    "            obs_M_x  = torch.cat([obs_M_x, next_x_obs_M])\n",
    "            total_x = torch.cat([total_x, next_x_total])\n",
    "\n",
    "        obs_dict = {\n",
    "            'Function':func,\n",
    "            'Noise level':noise,\n",
    "            'acquisition function':acq,\n",
    "            'Repeated round':int(i+1),\n",
    "            'iteration':np.arange(1,budgets+1,1).astype(int),\n",
    "            'x1':train_x[:,0].numpy(),\n",
    "            'x2':train_x[:,1].numpy(),\n",
    "            'Real value':f(train_x.numpy()),\n",
    "            'obs_x1':obs_x[:,0].numpy(),\n",
    "            'obs_x2':obs_x[:,1].numpy(),\n",
    "            'Real value(obs)':f(obs_x.numpy()),\n",
    "        }\n",
    "        pd.DataFrame(obs_dict).to_csv('data\\\\obs.csv',mode='a',index=False,header=False)\n",
    "\n",
    "        obs_M_dict = {\n",
    "            'Function':func,\n",
    "            'Noise level':noise,\n",
    "            'acquisition function':acq,\n",
    "            'Repeated round':int(i+1),\n",
    "            'iteration':np.arange(1,budgets+1,1).astype(int),\n",
    "            'x1':train_x[:,0].numpy(),\n",
    "            'x2':train_x[:,1].numpy(),\n",
    "            'Real value':f(train_x.numpy()),\n",
    "            'obs_M_x1':obs_M_x[:,0].numpy(),\n",
    "            'obs_M_x2':obs_M_x[:,1].numpy(),\n",
    "            'Real value(obs_M)':f(obs_M_x.numpy()),\n",
    "        }\n",
    "        pd.DataFrame(obs_M_dict).to_csv('data\\\\obs_M.csv',mode='a',index=False,header=False)\n",
    "\n",
    "        total_dict = {\n",
    "            'Function':func,\n",
    "            'Noise level':noise,\n",
    "            'acquisition function':acq,\n",
    "            'Repeated round':int(i+1),\n",
    "            'iteration':np.arange(1,budgets+1,1).astype(int),\n",
    "            'x1':train_x[:,0].numpy(),\n",
    "            'x2':train_x[:,1].numpy(),\n",
    "            'Real value':f(train_x.numpy()),\n",
    "            'total_x1':total_x[:,0].numpy(),\n",
    "            'total_x2':total_x[:,1].numpy(),\n",
    "            'Real value(total)':f(total_x.numpy()),\n",
    "        }\n",
    "        pd.DataFrame(total_dict).to_csv('data\\\\total.csv',mode='a',index=False,header=False)\n",
    "        print(' ')\n",
    "        print(funcname+': round'+str(i+1))"
   ]
  },
  {
   "cell_type": "code",
   "execution_count": 17,
   "metadata": {},
   "outputs": [
    {
     "data": {
      "text/plain": [
       "0"
      ]
     },
     "execution_count": 17,
     "metadata": {},
     "output_type": "execute_result"
    }
   ],
   "source": [
    "import os\n",
    "os.system(\"shutdown /s /t 60\")"
   ]
  }
 ],
 "metadata": {
  "kernelspec": {
   "display_name": ".venv",
   "language": "python",
   "name": "python3"
  },
  "language_info": {
   "codemirror_mode": {
    "name": "ipython",
    "version": 3
   },
   "file_extension": ".py",
   "mimetype": "text/x-python",
   "name": "python",
   "nbconvert_exporter": "python",
   "pygments_lexer": "ipython3",
   "version": "3.8.20"
  }
 },
 "nbformat": 4,
 "nbformat_minor": 2
}
