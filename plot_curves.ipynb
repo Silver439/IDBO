{
 "cells": [
  {
   "cell_type": "code",
   "execution_count": 86,
   "metadata": {},
   "outputs": [],
   "source": [
    "import numpy as np\n",
    "import pandas as pd\n",
    "from pak.plotfunc import visualize_2d_contour,plot_curves\n",
    "from pak.choose import *\n",
    "\n",
    "funcs = ['Fn1','Fn2','Fn7','Fn8','Fn10','Fn13','Fn18','Fn19','Fn22']\n",
    "#funcs = ['Fn2']\n",
    "mindata = [79.48,66.95,92.94,98.62,59.13,68.42,119.54,71.69,51.57]"
   ]
  },
  {
   "cell_type": "code",
   "execution_count": null,
   "metadata": {},
   "outputs": [],
   "source": [
    "for func in funcs:\n",
    "\n",
    "    noise = 'S'\n",
    "    acq = 'EIM'\n",
    "    funcname = func+noise\n",
    "    f = choose(funcname)[1]\n",
    "    realmin = mindata[funcs.index(func)]\n",
    "\n",
    "    df = pd.read_csv('data\\\\obs.csv')\n",
    "    subdf = df[(df['Function']==func)&(df['Noise level']==noise)&(df['acquisition function']=='EI')]\n",
    "    obs_data = subdf['Real value(obs)'].to_numpy()\n",
    "    obs = obs_data.reshape(30,300).mean(axis=0)\n",
    "    obs_res = np.log(obs - realmin)\n",
    "\n",
    "    df = pd.read_csv('data\\\\obs_M.csv')\n",
    "    subdf = df[(df['Function']==func)&(df['Noise level']==noise)&(df['acquisition function']==acq)]\n",
    "    obs_M_data = subdf['Real value(obs_M)'].to_numpy()\n",
    "    obs_M = obs_M_data.reshape(30,300).mean(axis=0)\n",
    "    obs_M_res = np.log(obs_M  - realmin)\n",
    "\n",
    "    df = pd.read_csv('data\\\\total.csv')\n",
    "    subdf = df[(df['Function']==func)&(df['Noise level']==noise)&(df['acquisition function']==acq)]\n",
    "    total_data = subdf['Real value(total)'].to_numpy()\n",
    "    total = total_data.reshape(30,300).mean(axis=0)\n",
    "    total_res = np.log(total - realmin)\n",
    "\n",
    "    df = pd.read_csv('data\\\\Random2D.csv',header=None)\n",
    "    random_data = f(df.to_numpy())\n",
    "    random = random_data.reshape(30,300).mean(axis=0)\n",
    "    random_res = np.log(random - realmin)\n",
    "\n",
    "    plot_curves(funcname, obs_res, obs_M_res, total_res, random_res)"
   ]
  },
  {
   "cell_type": "code",
   "execution_count": null,
   "metadata": {},
   "outputs": [],
   "source": [
    "df = pd.read_csv('total.csv')\n",
    "df"
   ]
  }
 ],
 "metadata": {
  "kernelspec": {
   "display_name": ".venv",
   "language": "python",
   "name": "python3"
  },
  "language_info": {
   "codemirror_mode": {
    "name": "ipython",
    "version": 3
   },
   "file_extension": ".py",
   "mimetype": "text/x-python",
   "name": "python",
   "nbconvert_exporter": "python",
   "pygments_lexer": "ipython3",
   "version": "3.8.20"
  }
 },
 "nbformat": 4,
 "nbformat_minor": 2
}
